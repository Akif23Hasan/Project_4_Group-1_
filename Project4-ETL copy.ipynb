{
 "cells": [
  {
   "cell_type": "code",
   "execution_count": 1,
   "metadata": {},
   "outputs": [],
   "source": [
    "#  Import and read the charity_data.csv.\n",
    "import pandas as pd\n",
    "from sqlalchemy import create_engine\n",
    "import sqlite3\n",
    "from flask import Flask, request, render_template, jsonify\n",
    "from sqlalchemy.orm import Session \n",
    "data = pd.read_csv('../Project_4_Group-1_MortgageAppraisalPredictivePowers/Datasets/LoanApprovalPrediction.csv')\n",
    "\n",
    "engine= create_engine('sqlite:///Loan.db')\n",
    "\n",
    "data.to_sql('Loans',engine,index=False,if_exists= 'replace')\n",
    "\n",
    "session = Session(engine)\n",
    "# Loan_df = pd.read_csv(\"../Project_4_Group-1_MortgageAppraisalPredictivePowers/Datasets/LoanApprovalPrediction.csv\")\n",
    "# Loan_df.head()"
   ]
  },
  {
   "cell_type": "code",
   "execution_count": 4,
   "metadata": {},
   "outputs": [],
   "source": [
    "\n",
    "# Step 2: Extract data from the CSV file\n",
    "Loan_df = pd.read_csv('Datasets/LoanApprovalPrediction.csv')\n",
    "\n",
    "# Step Cleaning CSV: Perform the same transformations as before\n",
    "\n",
    "#Drop Nan values\n",
    "Loan_df = Loan_df.dropna()\n",
    "\n",
    "mapping_gender = {'Male': 1, 'Female': 0}\n",
    "Loan_df['Gender'] = Loan_df['Gender'].map(mapping_gender)\n",
    "\n",
    "mapping_loan_status = {'Y': 1, 'N': 0}\n",
    "Loan_df['Loan_Status'] = Loan_df['Loan_Status'].map(mapping_loan_status)\n",
    "\n",
    "mapping_married = {'Yes': 1, 'No': 0}\n",
    "Loan_df['Married'] = Loan_df['Married'].map(mapping_married)\n",
    "\n",
    "mapping_self_employed = {'Yes': 1, 'No': 0}\n",
    "Loan_df['Self_Employed'] = Loan_df['Self_Employed'].map(mapping_self_employed)\n",
    "\n",
    "mapping_education = {'Graduate': 1, 'Not Graduate': 0}\n",
    "Loan_df['Education'] = Loan_df['Education'].map(mapping_education)\n",
    "\n",
    "mapping_property_area = {'Urban': 2, 'Semiurban': 1, 'Rural': 0}\n",
    "Loan_df['Property_Area'] = Loan_df['Property_Area'].map(mapping_property_area)\n",
    "\n",
    "# Drop the 'Loan_ID' column\n",
    "Loan_df.drop(['Loan_ID'], axis=1, inplace=True)"
   ]
  },
  {
   "cell_type": "code",
   "execution_count": 5,
   "metadata": {},
   "outputs": [
    {
     "data": {
      "text/plain": [
       "505"
      ]
     },
     "execution_count": 5,
     "metadata": {},
     "output_type": "execute_result"
    }
   ],
   "source": [
    "# Step 4: Load the transformed data into the SQLite database\n",
    "Loan_df.to_sql('loan_data', engine, if_exists='replace', index=False)"
   ]
  },
  {
   "cell_type": "code",
   "execution_count": 8,
   "metadata": {},
   "outputs": [],
   "source": [
    "# Step 5: Run queries directly from the SQLite database\n",
    "# For example, let's select all rows from the 'loan_data' table\n",
    "query = \"SELECT * FROM loan_data;\"\n",
    "result_df = pd.read_sql(query, engine)"
   ]
  },
  {
   "cell_type": "code",
   "execution_count": 10,
   "metadata": {},
   "outputs": [],
   "source": [
    "# Step 6: Convert the query result back to a CSV file\n",
    "output_file_path = '../Project_4_Group-1_MortgageAppraisalPredictivePowers/Datasets/ETL_Completed_LoanApprovalPrediction.csv'\n"
   ]
  },
  {
   "cell_type": "code",
   "execution_count": 11,
   "metadata": {},
   "outputs": [
    {
     "name": "stdout",
     "output_type": "stream",
     "text": [
      "ETL process completed. Data exported to '../Project_4_Group-1_MortgageAppraisalPredictivePowers/Datasets/ETL_Completed_LoanApprovalPrediction.csv' as a CSV file.\n"
     ]
    }
   ],
   "source": [
    "# Step 7: Close the SQLite engine\n",
    "engine.dispose()\n",
    "\n",
    "print(f\"ETL process completed. Data exported to '{output_file_path}' as a CSV file.\")"
   ]
  },
  {
   "cell_type": "code",
   "execution_count": 12,
   "metadata": {},
   "outputs": [
    {
     "data": {
      "text/html": [
       "<div>\n",
       "<style scoped>\n",
       "    .dataframe tbody tr th:only-of-type {\n",
       "        vertical-align: middle;\n",
       "    }\n",
       "\n",
       "    .dataframe tbody tr th {\n",
       "        vertical-align: top;\n",
       "    }\n",
       "\n",
       "    .dataframe thead th {\n",
       "        text-align: right;\n",
       "    }\n",
       "</style>\n",
       "<table border=\"1\" class=\"dataframe\">\n",
       "  <thead>\n",
       "    <tr style=\"text-align: right;\">\n",
       "      <th></th>\n",
       "      <th>Gender</th>\n",
       "      <th>Married</th>\n",
       "      <th>Dependents</th>\n",
       "      <th>Education</th>\n",
       "      <th>Self_Employed</th>\n",
       "      <th>ApplicantIncome</th>\n",
       "      <th>CoapplicantIncome</th>\n",
       "      <th>LoanAmount</th>\n",
       "      <th>Loan_Amount_Term</th>\n",
       "      <th>Credit_History</th>\n",
       "      <th>Property_Area</th>\n",
       "      <th>Loan_Status</th>\n",
       "    </tr>\n",
       "  </thead>\n",
       "  <tbody>\n",
       "    <tr>\n",
       "      <th>0</th>\n",
       "      <td>1</td>\n",
       "      <td>1</td>\n",
       "      <td>1.0</td>\n",
       "      <td>1</td>\n",
       "      <td>0</td>\n",
       "      <td>4583</td>\n",
       "      <td>1508.0</td>\n",
       "      <td>128.0</td>\n",
       "      <td>360.0</td>\n",
       "      <td>1.0</td>\n",
       "      <td>0</td>\n",
       "      <td>0</td>\n",
       "    </tr>\n",
       "    <tr>\n",
       "      <th>1</th>\n",
       "      <td>1</td>\n",
       "      <td>1</td>\n",
       "      <td>0.0</td>\n",
       "      <td>1</td>\n",
       "      <td>1</td>\n",
       "      <td>3000</td>\n",
       "      <td>0.0</td>\n",
       "      <td>66.0</td>\n",
       "      <td>360.0</td>\n",
       "      <td>1.0</td>\n",
       "      <td>2</td>\n",
       "      <td>1</td>\n",
       "    </tr>\n",
       "    <tr>\n",
       "      <th>2</th>\n",
       "      <td>1</td>\n",
       "      <td>1</td>\n",
       "      <td>0.0</td>\n",
       "      <td>0</td>\n",
       "      <td>0</td>\n",
       "      <td>2583</td>\n",
       "      <td>2358.0</td>\n",
       "      <td>120.0</td>\n",
       "      <td>360.0</td>\n",
       "      <td>1.0</td>\n",
       "      <td>2</td>\n",
       "      <td>1</td>\n",
       "    </tr>\n",
       "    <tr>\n",
       "      <th>3</th>\n",
       "      <td>1</td>\n",
       "      <td>0</td>\n",
       "      <td>0.0</td>\n",
       "      <td>1</td>\n",
       "      <td>0</td>\n",
       "      <td>6000</td>\n",
       "      <td>0.0</td>\n",
       "      <td>141.0</td>\n",
       "      <td>360.0</td>\n",
       "      <td>1.0</td>\n",
       "      <td>2</td>\n",
       "      <td>1</td>\n",
       "    </tr>\n",
       "    <tr>\n",
       "      <th>4</th>\n",
       "      <td>1</td>\n",
       "      <td>1</td>\n",
       "      <td>2.0</td>\n",
       "      <td>1</td>\n",
       "      <td>1</td>\n",
       "      <td>5417</td>\n",
       "      <td>4196.0</td>\n",
       "      <td>267.0</td>\n",
       "      <td>360.0</td>\n",
       "      <td>1.0</td>\n",
       "      <td>2</td>\n",
       "      <td>1</td>\n",
       "    </tr>\n",
       "  </tbody>\n",
       "</table>\n",
       "</div>"
      ],
      "text/plain": [
       "   Gender  Married  Dependents  Education  Self_Employed  ApplicantIncome  \\\n",
       "0       1        1         1.0          1              0             4583   \n",
       "1       1        1         0.0          1              1             3000   \n",
       "2       1        1         0.0          0              0             2583   \n",
       "3       1        0         0.0          1              0             6000   \n",
       "4       1        1         2.0          1              1             5417   \n",
       "\n",
       "   CoapplicantIncome  LoanAmount  Loan_Amount_Term  Credit_History  \\\n",
       "0             1508.0       128.0             360.0             1.0   \n",
       "1                0.0        66.0             360.0             1.0   \n",
       "2             2358.0       120.0             360.0             1.0   \n",
       "3                0.0       141.0             360.0             1.0   \n",
       "4             4196.0       267.0             360.0             1.0   \n",
       "\n",
       "   Property_Area  Loan_Status  \n",
       "0              0            0  \n",
       "1              2            1  \n",
       "2              2            1  \n",
       "3              2            1  \n",
       "4              2            1  "
      ]
     },
     "execution_count": 12,
     "metadata": {},
     "output_type": "execute_result"
    }
   ],
   "source": [
    "# Step 6: Display the new dataset in the notebook\n",
    "result_df.head()"
   ]
  }
 ],
 "metadata": {
  "kernelspec": {
   "display_name": "dataviz",
   "language": "python",
   "name": "python3"
  },
  "language_info": {
   "codemirror_mode": {
    "name": "ipython",
    "version": 3
   },
   "file_extension": ".py",
   "mimetype": "text/x-python",
   "name": "python",
   "nbconvert_exporter": "python",
   "pygments_lexer": "ipython3",
   "version": "3.9.13"
  },
  "orig_nbformat": 4
 },
 "nbformat": 4,
 "nbformat_minor": 2
}
